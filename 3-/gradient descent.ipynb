{
 "cells": [
  {
   "cell_type": "code",
   "execution_count": 33,
   "id": "7285107b",
   "metadata": {},
   "outputs": [],
   "source": [
    "import pandas as pd\n",
    "import numpy as np\n",
    "from sklearn.linear_model import LinearRegression"
   ]
  },
  {
   "cell_type": "code",
   "execution_count": 22,
   "id": "0924c6ee",
   "metadata": {},
   "outputs": [],
   "source": [
    "import math"
   ]
  },
  {
   "cell_type": "code",
   "execution_count": 4,
   "id": "1ed39bf9",
   "metadata": {},
   "outputs": [
    {
     "data": {
      "text/html": [
       "<div>\n",
       "<style scoped>\n",
       "    .dataframe tbody tr th:only-of-type {\n",
       "        vertical-align: middle;\n",
       "    }\n",
       "\n",
       "    .dataframe tbody tr th {\n",
       "        vertical-align: top;\n",
       "    }\n",
       "\n",
       "    .dataframe thead th {\n",
       "        text-align: right;\n",
       "    }\n",
       "</style>\n",
       "<table border=\"1\" class=\"dataframe\">\n",
       "  <thead>\n",
       "    <tr style=\"text-align: right;\">\n",
       "      <th></th>\n",
       "      <th>name</th>\n",
       "      <th>math</th>\n",
       "      <th>cs</th>\n",
       "    </tr>\n",
       "  </thead>\n",
       "  <tbody>\n",
       "    <tr>\n",
       "      <th>0</th>\n",
       "      <td>david</td>\n",
       "      <td>92</td>\n",
       "      <td>98</td>\n",
       "    </tr>\n",
       "    <tr>\n",
       "      <th>1</th>\n",
       "      <td>laura</td>\n",
       "      <td>56</td>\n",
       "      <td>68</td>\n",
       "    </tr>\n",
       "    <tr>\n",
       "      <th>2</th>\n",
       "      <td>sanjay</td>\n",
       "      <td>88</td>\n",
       "      <td>81</td>\n",
       "    </tr>\n",
       "    <tr>\n",
       "      <th>3</th>\n",
       "      <td>wei</td>\n",
       "      <td>70</td>\n",
       "      <td>80</td>\n",
       "    </tr>\n",
       "    <tr>\n",
       "      <th>4</th>\n",
       "      <td>jeff</td>\n",
       "      <td>80</td>\n",
       "      <td>83</td>\n",
       "    </tr>\n",
       "    <tr>\n",
       "      <th>5</th>\n",
       "      <td>aamir</td>\n",
       "      <td>49</td>\n",
       "      <td>52</td>\n",
       "    </tr>\n",
       "    <tr>\n",
       "      <th>6</th>\n",
       "      <td>venkat</td>\n",
       "      <td>65</td>\n",
       "      <td>66</td>\n",
       "    </tr>\n",
       "    <tr>\n",
       "      <th>7</th>\n",
       "      <td>virat</td>\n",
       "      <td>35</td>\n",
       "      <td>30</td>\n",
       "    </tr>\n",
       "    <tr>\n",
       "      <th>8</th>\n",
       "      <td>arthur</td>\n",
       "      <td>66</td>\n",
       "      <td>68</td>\n",
       "    </tr>\n",
       "    <tr>\n",
       "      <th>9</th>\n",
       "      <td>paul</td>\n",
       "      <td>67</td>\n",
       "      <td>73</td>\n",
       "    </tr>\n",
       "  </tbody>\n",
       "</table>\n",
       "</div>"
      ],
      "text/plain": [
       "     name  math  cs\n",
       "0   david    92  98\n",
       "1   laura    56  68\n",
       "2  sanjay    88  81\n",
       "3     wei    70  80\n",
       "4    jeff    80  83\n",
       "5   aamir    49  52\n",
       "6  venkat    65  66\n",
       "7   virat    35  30\n",
       "8  arthur    66  68\n",
       "9    paul    67  73"
      ]
     },
     "execution_count": 4,
     "metadata": {},
     "output_type": "execute_result"
    }
   ],
   "source": [
    "df=pd.read_csv(\"test_scores.csv\")\n",
    "df"
   ]
  },
  {
   "cell_type": "code",
   "execution_count": 8,
   "id": "2eb2e5c8",
   "metadata": {},
   "outputs": [],
   "source": [
    "rg=linear_model.LinearRegression()"
   ]
  },
  {
   "cell_type": "code",
   "execution_count": 9,
   "id": "53f6de45",
   "metadata": {},
   "outputs": [
    {
     "data": {
      "text/plain": [
       "LinearRegression()"
      ]
     },
     "execution_count": 9,
     "metadata": {},
     "output_type": "execute_result"
    }
   ],
   "source": [
    "rg.fit(df[['math']],df['cs'])"
   ]
  },
  {
   "cell_type": "code",
   "execution_count": 52,
   "id": "3aa2815d",
   "metadata": {},
   "outputs": [],
   "source": [
    "def gradient_descent(x,y):\n",
    "    m_curr=0\n",
    "    b_curr=0\n",
    "    iterations=100\n",
    "    learning_rate=0.1\n",
    "    n=len(x)\n",
    "    cost_previous=0\n",
    "    \n",
    "    for i in range(iterations):\n",
    "        y_predicted = m_curr * x + b_curr\n",
    "        cost = (1/n)*sum([value**2 for value in (y-y_predicted)])\n",
    "        md = -(2/n)*sum(x*(y-y_predicted))\n",
    "        bd = -(2/n)*sum(y-y_predicted)\n",
    "        m_curr = m_curr - learning_rate * md\n",
    "        b_curr = b_curr - learning_rate * bd\n",
    "        if math.isclose(cost, cost_previous, rel_tol=1e-20):\n",
    "            break\n",
    "        cost_previous = cost\n",
    "        print (\"m {}, b {}, cost {}, iteration {}\".format(m_curr,b_curr,cost, i))\n",
    "\n",
    "    return m_curr, b_curr"
   ]
  },
  {
   "cell_type": "code",
   "execution_count": 53,
   "id": "7b129cdd",
   "metadata": {},
   "outputs": [
    {
     "name": "stdout",
     "output_type": "stream",
     "text": [
      "m 989.1800000000002, b 13.980000000000002, cost 5199.1, iteration 0\n",
      "m -934764.0368, b -13190.280800000002, cost 4624176649.337042, iteration 1\n",
      "m 884277037.336928, b 12477909.287008, cost 4138149214106179.5, iteration 2\n",
      "m -836515925792.161, b -11803958877.411753, cost 3.7032060698742374e+21, iteration 3\n",
      "m 791334463505817.5, b 11166409601495.324, cost 3.3139779370946647e+27, iteration 4\n",
      "m -7.485933188160774e+17, b -1.0563295304756512e+16, cost 2.965659906666545e+33, iteration 5\n",
      "m 7.081606865615178e+20, b 9.992756103138988e+18, cost 2.6539520929098406e+39, iteration 6\n",
      "m -6.699118805714214e+23, b -9.453032567579368e+21, cost 2.37500655271612e+45, iteration 7\n",
      "m 6.33728949159553e+26, b 8.942460298380127e+24, cost 2.1253797838000865e+51, iteration 8\n",
      "m -5.995003113846916e+29, b -8.459464792532926e+27, cost 1.9019902156564862e+57, iteration 9\n",
      "m 5.671204129572697e+32, b 8.002556588265454e+30, cost 1.7020801684605084e+63, iteration 10\n",
      "m -5.36489400731005e+35, b -7.570326671838513e+33, cost 1.5231818103052674e+69, iteration 11\n",
      "m 5.0751281477572034e+38, b 7.161442132428758e+36, cost 1.3630866925282916e+75, iteration 12\n",
      "m -4.801012970817656e+41, b -6.774642051697681e+39, cost 1.2198184870493866e+81, iteration 13\n",
      "m 4.541703159977447e+44, b 6.408733615371032e+42, cost 1.0916085891701797e+87, iteration 14\n",
      "m -4.296399055517683e+47, b -6.062588434837572e+45, cost 9.768742846589317e+92, iteration 15\n",
      "m 4.064344188523519e+50, b 5.7351390674237544e+48, cost 8.741992115995786e+98, iteration 16\n",
      "m -3.8448229480849535e+53, b -5.4253757246134826e+51, cost 7.82315875812155e+104, iteration 17\n",
      "m 3.6371583744955587e+56, b 5.132343158061809e+54, cost 7.000900040025099e+110, iteration 18\n",
      "m -3.4407100716438164e+59, b -4.8551377137996175e+57, cost 6.265065414854499e+116, iteration 19\n",
      "m 3.2548722321592856e+62, b 4.5929045455451004e+60, cost 5.6065712162725365e+122, iteration 20\n",
      "m -3.0790717692235376e+65, b -4.3448349785283695e+63, cost 5.017288523214203e+128, iteration 21\n",
      "m 2.9127665492847536e+68, b 4.110164015699824e+66, cost 4.489942810699381e+134, iteration 22\n",
      "m -2.755443720226018e+71, b -3.88816797863187e+69, cost 4.0180241479189075e+140, iteration 23\n",
      "m 2.606618129831714e+74, b 3.678162275839056e+72, cost 3.5957068350152763e+146, iteration 24\n",
      "m -2.4658308296748876e+77, b -3.4794992916344998e+75, cost 3.2177774864972044e+152, iteration 25\n",
      "m 2.3326476598118718e+80, b 3.291566389012342e+78, cost 2.879570673498545e+158, iteration 26\n",
      "m -2.20665790991964e+83, b -3.113784020397451e+81, cost 2.5769113304037896e+164, iteration 27\n",
      "m 2.0874730527471209e+86, b 2.945603940436321e+84, cost 2.3060632148665259e+170, iteration 28\n",
      "m -1.9747255459746692e+89, b -2.7865075153178046e+87, cost 2.063682784974694e+176, iteration 29\n",
      "m 1.8680676987868888e+92, b 2.6360041234099046e+90, cost 1.8467779241894746e+182, iteration 30\n",
      "m -1.767170599663527e+95, b -2.4936296422805553e+93, cost 1.6526710045291237e+188, iteration 31\n",
      "m 1.6717231020819725e+98, b 2.358945017436648e+96, cost 1.4789658320233822e+194, iteration 32\n",
      "m -1.581430865003459e+101, b -2.231534908367566e+99, cost 1.3235180663896434e+200, iteration 33\n",
      "m 1.4960154451840296e+104, b 2.111006407717928e+102, cost 1.1844087497702832e+206, iteration 34\n",
      "m -1.4152134385111263e+107, b -1.9969878296396889e+105, cost 1.0599206177510645e+212, iteration 35\n",
      "m 1.338775667717863e+110, b 1.8891275635871536e+108, cost 9.4851690022696e+217, iteration 36\n",
      "m -1.2664664139700501e+113, b -1.7870929900201955e+111, cost 8.488223504181921e+223, iteration 37\n",
      "m 1.1980626899563405e+116, b 1.690569454671971e+114, cost 7.596062678451634e+229, iteration 38\n",
      "m -1.1333535522398513e+119, b -1.5992592982179336e+117, cost 6.797673056857952e+235, iteration 39\n",
      "m 1.0721394507506933e+122, b 1.512880938353867e+120, cost 6.083198749664812e+241, iteration 40\n",
      "m -1.0142316134133698e+125, b -1.4311680014522433e+123, cost 5.443819777503136e+247, iteration 41\n",
      "m 9.594514640113595e+127, b 1.3538685011191e+126, cost 4.8716431912679495e+253, iteration 42\n",
      "m -9.076300714936933e+130, b -1.2807440611182809e+129, cost 4.359605635936893e+259, iteration 43\n",
      "m 8.586076290253005e+133, b 1.21156918026668e+132, cost 3.901386155488524e+265, iteration 44\n",
      "m -8.122329611746128e+136, b -1.1461305370335883e+135, cost 3.491328162522323e+271, iteration 45\n",
      "m 7.683630577186967e+139, b 1.0842263316996559e+138, cost 3.1243696093177887e+277, iteration 46\n",
      "m -7.268626326282586e+142, b -1.0256656640468191e+141, cost 2.795980498314495e+283, iteration 47\n",
      "m 6.876037068725239e+145, b 9.702679446601162e+143, cost 2.502106960598025e+289, iteration 48\n",
      "m -6.504652137574397e+148, b -9.178623380259637e+146, cost 2.2391212120567856e+295, iteration 49\n",
      "m 6.153326255801467e+151, b 8.682872357095188e+149, cost 2.0037767694328848e+301, iteration 50\n",
      "m -5.820976004483936e+154, b -8.213897579865085e+152, cost 1.7931683734221462e+307, iteration 51\n",
      "m 5.506576481757577e+157, b 7.770252823926646e+155, cost inf, iteration 52\n",
      "Using gradient descent function: Coef -5.209158142223593e+160 Intercept -7.350569977368983e+158\n",
      "Using sklearn: Coef [1.01773624] Intercept 1.9152193111569318\n"
     ]
    },
    {
     "name": "stderr",
     "output_type": "stream",
     "text": [
      "<ipython-input-52-cc6fdd4dea16>:11: RuntimeWarning: overflow encountered in double_scalars\n",
      "  cost = (1/n)*sum([value**2 for value in (y-y_predicted)])\n"
     ]
    }
   ],
   "source": [
    "x = np.array(df.math)\n",
    "y = np.array(df.cs)\n",
    "\n",
    "m, b = gradient_descent(x,y)\n",
    "print(\"Using gradient descent function: Coef {} Intercept {}\".format(m, b))\n",
    "\n",
    "m_sklearn, b_sklearn = rg.coef_,rg.intercept_\n",
    "print(\"Using sklearn: Coef {} Intercept {}\".format(m_sklearn,b_sklearn))\n"
   ]
  },
  {
   "cell_type": "code",
   "execution_count": null,
   "id": "c831528b",
   "metadata": {},
   "outputs": [],
   "source": []
  }
 ],
 "metadata": {
  "kernelspec": {
   "display_name": "Python 3",
   "language": "python",
   "name": "python3"
  },
  "language_info": {
   "codemirror_mode": {
    "name": "ipython",
    "version": 3
   },
   "file_extension": ".py",
   "mimetype": "text/x-python",
   "name": "python",
   "nbconvert_exporter": "python",
   "pygments_lexer": "ipython3",
   "version": "3.8.8"
  }
 },
 "nbformat": 4,
 "nbformat_minor": 5
}
